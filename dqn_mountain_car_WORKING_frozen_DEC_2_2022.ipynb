{
 "cells": [
  {
   "cell_type": "code",
   "execution_count": 1,
   "metadata": {},
   "outputs": [],
   "source": [
    "import numpy as np\n",
    "from collections import deque\n",
    "import time\n",
    "import random\n",
    "from tqdm import trange\n",
    "import os\n",
    "\n",
    "import copy\n",
    "\n",
    "import torch\n",
    "import torch.nn as nn\n",
    "import torch.nn.functional as F\n",
    "\n",
    "import gym\n",
    "\n",
    "import math"
   ]
  },
  {
   "cell_type": "code",
   "execution_count": 2,
   "metadata": {},
   "outputs": [
    {
     "data": {
      "text/plain": [
       "50000"
      ]
     },
     "execution_count": 2,
     "metadata": {},
     "output_type": "execute_result"
    }
   ],
   "source": [
    "DISCOUNT = 0.99\n",
    "REPLAY_MEMORY_SIZE = 50_000\n",
    "MIN_REPLAY_MEMEORY_SIZE = 100\n",
    "# MIN_REPLAY_MEMEORY_SIZE = 1_000\n",
    "MINIBATCH_SIZE = 64\n",
    "UPDATE_TARGET_EVERY = 100\n",
    "MIN_REWARD = -200\n",
    "MEMORY_FRACTION = 0.20\n",
    "\n",
    "EPISODES = 20_000\n",
    "\n",
    "epsilon = 1\n",
    "EPSILON_DECAY = 0.99985\n",
    "MIN_EPSILON = 0.001\n",
    "\n",
    "SHOW_PREVIEW = False\n",
    "\n",
    "REPLAY_MEMORY_SIZE"
   ]
  },
  {
   "cell_type": "code",
   "execution_count": 3,
   "metadata": {},
   "outputs": [
    {
     "data": {
      "text/plain": [
       "(array([-0.58868563,  0.        ], dtype=float32), {})"
      ]
     },
     "execution_count": 3,
     "metadata": {},
     "output_type": "execute_result"
    }
   ],
   "source": [
    "env = gym.make(\"MountainCar-v0\", render_mode=\"human\")\n",
    "# env = gym.make(\"MountainCar-v0\")\n",
    "env.reset()"
   ]
  },
  {
   "cell_type": "code",
   "execution_count": 4,
   "metadata": {},
   "outputs": [],
   "source": [
    "class Model(nn.Module):\n",
    "    def __init__(self, input_dim):\n",
    "        super().__init__()\n",
    "        \n",
    "        self.layer1 = nn.Linear(input_dim, 50)\n",
    "        self.layer2 = nn.Linear(50, 50)\n",
    "        self.layer3 = nn.Linear(50, env.action_space.n)\n",
    "        \n",
    "    def forward(self, x):\n",
    "        x = F.relu(self.layer1(x))\n",
    "        x = F.relu(self.layer2(x))\n",
    "        x = self.layer3(x)\n",
    "        return x\n",
    "    "
   ]
  },
  {
   "cell_type": "code",
   "execution_count": 5,
   "metadata": {},
   "outputs": [],
   "source": [
    "class DQNAgent:\n",
    "    def __init__(self):\n",
    "        \n",
    "        self.model = self.create_model()\n",
    "        \n",
    "        self.target_model = copy.deepcopy(self.model)\n",
    "        \n",
    "        self.replay_memory = deque(maxlen=REPLAY_MEMORY_SIZE)\n",
    "        \n",
    "        self.target_update_counter = 0\n",
    "        \n",
    "        self.loss_fn = nn.MSELoss()\n",
    "        \n",
    "        self.optimizer = torch.optim.Adam(self.model.parameters(), lr=0.001)\n",
    "        \n",
    "    def create_model(self):\n",
    "        \n",
    "        return Model(len(env.observation_space.low))\n",
    "    \n",
    "    \n",
    "    def update_replay_memory(self, transition):\n",
    "        self.replay_memory.append(transition)\n",
    "    \n",
    "    \n",
    "    def train(self, terminal_state):\n",
    "        \n",
    "        if len(self.replay_memory) < MIN_REPLAY_MEMEORY_SIZE:\n",
    "            return\n",
    "        \n",
    "        \n",
    "        \n",
    "        minibatch = random.sample(self.replay_memory, MINIBATCH_SIZE)\n",
    "        \n",
    "        \n",
    "        #clark\n",
    "        current_states = np.array([transition[0] for transition in minibatch])\n",
    "        current_qs_list = self.model(torch.from_numpy(current_states))\n",
    "        new_current_states = np.array([transition[3] for transition in minibatch])\n",
    "        future_qs_list = self.target_model(torch.from_numpy(new_current_states))\n",
    "        \n",
    "        X = []\n",
    "        y = []\n",
    "        \n",
    "        \n",
    "        \n",
    "        for index, (current_state, action, reward, new_current_state, done) in enumerate(minibatch):\n",
    "            \n",
    "            current_qs = current_qs_list[index]\n",
    "            \n",
    "            if not done:\n",
    "                max_future_q = torch.max(future_qs_list[index])\n",
    "                new_q = reward + (DISCOUNT * max_future_q)\n",
    "                \n",
    "            else:\n",
    "                new_q = reward\n",
    "                \n",
    "            \n",
    "            current_qs[action] = new_q\n",
    "            \n",
    "            \n",
    "            X.append(current_state)\n",
    "            y.append(current_qs)\n",
    "            \n",
    "            \n",
    "            \n",
    "#             if index == 63:\n",
    "#                 print(current_qs)\n",
    "#                 print(new_q)\n",
    "#                 print(current_qs[action])\n",
    "#                 print(reward)\n",
    "#                 print(DISCOUNT * max_future_q)\n",
    "#                 print((reward + (DISCOUNT * max_future_q)))\n",
    "#                 print(\"******************************\")\n",
    "        \n",
    "            \n",
    "        #########################################################################\n",
    "        ###  model.fit   - my version for torch\n",
    "        ###  self.model.fit(np.array(X)/255, np.array(y), batch_size=MINIBATCH_SIZE, verbose=0, shuffle=False, callbacks=[self.tensorboard] if terminal_state else None)\n",
    "\n",
    "        y_pred = self.model(torch.from_numpy(np.array(X)))\n",
    "\n",
    "        \n",
    "\n",
    "        loss = self.loss_fn(y_pred, torch.from_numpy(np.array([x.detach().numpy() for x in y])))\n",
    "        \n",
    "#         print(loss)\n",
    "\n",
    "        self.optimizer.zero_grad()\n",
    "        loss.backward()\n",
    "        self.optimizer.step()\n",
    "\n",
    "        #########################################################################\n",
    "            \n",
    "\n",
    "\n",
    "        \n",
    "        self.target_update_counter += 1\n",
    "        \n",
    "            \n",
    "        if self.target_update_counter > UPDATE_TARGET_EVERY:\n",
    "            \n",
    "            self.target_model = copy.deepcopy(self.model)\n",
    "            \n",
    "            self.target_update_counter = 0\n",
    "            \n",
    "            print(\"yes\")\n",
    "            \n",
    "\n",
    "    def get_qs(self, state):\n",
    "        \n",
    "        return self.model(state)\n",
    "    \n",
    "agent = DQNAgent()"
   ]
  },
  {
   "cell_type": "code",
   "execution_count": 6,
   "metadata": {},
   "outputs": [
    {
     "name": "stderr",
     "output_type": "stream",
     "text": [
      "\r",
      "  0%|          | 0/99 [00:00<?, ?it/s]"
     ]
    },
    {
     "name": "stdout",
     "output_type": "stream",
     "text": [
      "1\n",
      "100\n",
      "200\n",
      "yes\n",
      "300\n",
      "yes\n",
      "400\n",
      "yes\n",
      "500\n",
      "yes\n",
      "600\n",
      "yes\n",
      "700\n",
      "yes\n",
      "800\n",
      "yes\n",
      "900\n",
      "yes\n",
      "1000\n",
      "yes\n",
      "1100\n",
      "yes\n",
      "1200\n",
      "yes\n",
      "1300\n",
      "yes\n",
      "1400\n",
      "yes\n",
      "1500\n",
      "yes\n",
      "1600\n",
      "yes\n",
      "1700\n",
      "yes\n",
      "1800\n",
      "yes\n",
      "1900\n",
      "yes\n",
      "2000\n",
      "yes\n",
      "2100\n",
      "yes\n",
      "2200\n",
      "yes\n",
      "2300\n",
      "yes\n",
      "2400\n",
      "yes\n",
      "2500\n",
      "yes\n",
      "2600\n",
      "yes\n",
      "2700\n",
      "yes\n",
      "2800\n",
      "yes\n",
      "2900\n",
      "yes\n",
      "3000\n",
      "yes\n",
      "3100\n",
      "yes\n",
      "3200\n",
      "yes\n",
      "3300\n",
      "yes\n",
      "3400\n",
      "yes\n",
      "3500\n",
      "yes\n",
      "3600\n",
      "yes\n",
      "3700\n",
      "yes\n",
      "3800\n",
      "yes\n",
      "3900\n",
      "yes\n",
      "4000\n",
      "yes\n",
      "4100\n",
      "yes\n",
      "4200\n",
      "yes\n",
      "4300\n",
      "yes\n",
      "4400\n",
      "yes\n",
      "4500\n",
      "yes\n",
      "4600\n",
      "yes\n",
      "4700\n",
      "yes\n",
      "4800\n",
      "yes\n",
      "4900\n",
      "yes\n",
      "5000\n"
     ]
    },
    {
     "name": "stderr",
     "output_type": "stream",
     "text": [
      "\r",
      "  1%|          | 1/99 [02:46<4:32:38, 166.92s/it]"
     ]
    },
    {
     "name": "stdout",
     "output_type": "stream",
     "text": [
      "0.4693733704693855\n",
      "yes\n",
      "100\n",
      "yes\n",
      "200\n",
      "yes\n",
      "300\n",
      "yes\n",
      "400\n",
      "yes\n",
      "500\n",
      "yes\n",
      "600\n",
      "yes\n",
      "700\n",
      "yes\n",
      "800\n",
      "yes\n",
      "900\n",
      "yes\n",
      "1000\n",
      "yes\n",
      "1100\n",
      "yes\n",
      "1200\n",
      "yes\n",
      "1300\n",
      "yes\n",
      "1400\n",
      "yes\n",
      "1500\n",
      "yes\n",
      "1600\n",
      "yes\n",
      "1700\n",
      "yes\n",
      "1800\n",
      "yes\n",
      "1900\n",
      "yes\n",
      "2000\n",
      "yes\n",
      "2100\n",
      "yes\n",
      "2200\n",
      "yes\n",
      "2300\n",
      "yes\n",
      "2400\n",
      "yes\n",
      "2500\n",
      "yes\n",
      "2600\n",
      "yes\n",
      "2700\n",
      "yes\n",
      "2800\n",
      "yes\n",
      "2900\n",
      "yes\n",
      "3000\n",
      "yes\n",
      "3100\n",
      "yes\n",
      "3200\n",
      "yes\n",
      "3300\n",
      "yes\n",
      "3400\n",
      "yes\n",
      "3500\n",
      "yes\n",
      "3600\n",
      "yes\n",
      "3700\n",
      "yes\n",
      "3800\n",
      "yes\n",
      "3900\n",
      "yes\n",
      "4000\n",
      "yes\n",
      "4100\n",
      "yes\n",
      "4200\n",
      "yes\n",
      "4300\n",
      "yes\n",
      "4400\n",
      "yes\n",
      "4500\n",
      "yes\n",
      "4600\n",
      "yes\n",
      "4700\n",
      "yes\n",
      "4800\n",
      "yes\n",
      "4900\n",
      "yes\n",
      "5000\n",
      "yes\n",
      "5100\n",
      "yes\n",
      "5200\n",
      "yes\n",
      "5300\n",
      "yes\n",
      "5400\n",
      "yes\n",
      "5500\n",
      "yes\n",
      "5600\n",
      "yes\n",
      "5700\n",
      "yes\n",
      "5800\n",
      "yes\n",
      "5900\n",
      "yes\n",
      "6000\n",
      "yes\n",
      "6100\n",
      "yes\n",
      "6200\n",
      "yes\n",
      "6300\n",
      "yes\n",
      "6400\n",
      "yes\n",
      "6500\n",
      "yes\n",
      "6600\n",
      "yes\n",
      "6700\n",
      "yes\n",
      "6800\n",
      "yes\n",
      "6900\n",
      "yes\n",
      "7000\n",
      "yes\n",
      "7100\n",
      "yes\n",
      "7200\n",
      "yes\n",
      "7300\n",
      "yes\n",
      "7400\n",
      "yes\n",
      "7500\n",
      "yes\n",
      "7600\n",
      "yes\n",
      "7700\n",
      "yes\n",
      "7800\n",
      "yes\n",
      "7900\n",
      "yes\n",
      "8000\n",
      "yes\n",
      "8100\n",
      "yes\n",
      "8200\n",
      "yes\n",
      "8300\n",
      "yes\n",
      "8400\n",
      "yes\n",
      "8500\n",
      "yes\n",
      "8600\n",
      "yes\n",
      "8700\n",
      "yes\n",
      "8800\n",
      "yes\n",
      "8900\n",
      "yes\n",
      "9000\n",
      "yes\n",
      "9100\n",
      "yes\n",
      "9200\n",
      "yes\n",
      "9300\n",
      "yes\n",
      "9400\n",
      "9500\n",
      "yes\n",
      "9600\n",
      "yes\n",
      "9700\n",
      "yes\n",
      "9800\n",
      "yes\n",
      "9900\n",
      "yes\n",
      "10000\n",
      "yes\n",
      "10100\n",
      "yes\n",
      "10200\n",
      "yes\n",
      "10300\n",
      "yes\n",
      "10400\n",
      "yes\n",
      "10500\n",
      "yes\n",
      "10600\n",
      "yes\n",
      "10700\n",
      "yes\n",
      "10800\n",
      "yes\n",
      "10900\n",
      "yes\n",
      "11000\n",
      "yes\n",
      "11100\n",
      "yes\n",
      "11200\n",
      "yes\n",
      "11300\n",
      "yes\n",
      "11400\n",
      "yes\n",
      "11500\n",
      "yes\n",
      "11600\n",
      "yes\n",
      "11700\n",
      "yes\n",
      "11800\n",
      "yes\n",
      "11900\n",
      "yes\n",
      "12000\n",
      "yes\n",
      "12100\n",
      "yes\n",
      "12200\n",
      "yes\n",
      "12300\n",
      "yes\n",
      "12400\n",
      "yes\n",
      "12500\n",
      "yes\n",
      "12600\n",
      "yes\n",
      "12700\n",
      "yes\n",
      "12800\n",
      "yes\n",
      "12900\n",
      "yes\n",
      "13000\n",
      "yes\n",
      "13100\n",
      "yes\n",
      "13200\n",
      "yes\n",
      "13300\n",
      "yes\n",
      "13400\n",
      "yes\n",
      "13500\n",
      "yes\n",
      "13600\n",
      "yes\n",
      "13700\n",
      "yes\n",
      "13800\n",
      "yes\n",
      "13900\n",
      "yes\n",
      "14000\n",
      "yes\n",
      "14100\n",
      "yes\n",
      "14200\n",
      "yes\n",
      "14300\n",
      "yes\n",
      "14400\n",
      "yes\n",
      "14500\n",
      "yes\n",
      "14600\n",
      "yes\n",
      "14700\n",
      "yes\n",
      "14800\n",
      "yes\n",
      "14900\n",
      "yes\n",
      "15000\n",
      "yes\n",
      "15100\n",
      "yes\n",
      "15200\n",
      "yes\n",
      "15300\n",
      "yes\n",
      "15400\n",
      "yes\n",
      "15500\n",
      "yes\n",
      "15600\n",
      "yes\n",
      "15700\n",
      "yes\n",
      "15800\n",
      "yes\n",
      "15900\n",
      "yes\n",
      "16000\n",
      "yes\n",
      "16100\n",
      "yes\n",
      "16200\n",
      "yes\n",
      "16300\n",
      "yes\n",
      "16400\n",
      "yes\n",
      "16500\n",
      "yes\n",
      "16600\n",
      "yes\n",
      "16700\n",
      "yes\n",
      "16800\n",
      "yes\n",
      "16900\n",
      "yes\n",
      "17000\n",
      "yes\n",
      "17100\n",
      "yes\n",
      "17200\n",
      "yes\n",
      "17300\n",
      "yes\n",
      "17400\n",
      "yes\n",
      "17500\n",
      "yes\n",
      "17600\n",
      "yes\n",
      "17700\n",
      "yes\n",
      "17800\n"
     ]
    },
    {
     "name": "stderr",
     "output_type": "stream",
     "text": [
      "\r",
      "  2%|▏         | 2/99 [12:38<11:13:57, 416.89s/it]"
     ]
    },
    {
     "name": "stdout",
     "output_type": "stream",
     "text": [
      "yes\n",
      "0.03209169698223438\n",
      "100\n",
      "yes\n",
      "200\n",
      "yes\n",
      "300\n",
      "yes\n",
      "400\n",
      "yes\n",
      "500\n",
      "yes\n",
      "600\n",
      "yes\n",
      "700\n",
      "yes\n",
      "800\n",
      "yes\n",
      "900\n",
      "yes\n",
      "1000\n",
      "yes\n",
      "1100\n",
      "yes\n",
      "1200\n",
      "yes\n",
      "1300\n",
      "yes\n",
      "1400\n",
      "yes\n",
      "1500\n",
      "yes\n",
      "1600\n",
      "yes\n",
      "1700\n",
      "yes\n",
      "1800\n",
      "yes\n",
      "1900\n",
      "yes\n",
      "2000\n",
      "yes\n",
      "2100\n",
      "yes\n",
      "2200\n",
      "yes\n",
      "2300\n",
      "yes\n",
      "2400\n",
      "yes\n",
      "2500\n",
      "yes\n",
      "2600\n",
      "yes\n",
      "2700\n",
      "yes\n",
      "2800\n",
      "yes\n",
      "2900\n",
      "yes\n",
      "3000\n",
      "yes\n",
      "3100\n",
      "yes\n",
      "3200\n",
      "yes\n",
      "3300\n",
      "yes\n",
      "3400\n",
      "yes\n",
      "3500\n",
      "yes\n",
      "3600\n",
      "yes\n",
      "3700\n",
      "yes\n",
      "3800\n",
      "yes\n",
      "3900\n",
      "yes\n",
      "4000\n",
      "yes\n",
      "4100\n",
      "yes\n",
      "4200\n",
      "yes\n",
      "4300\n",
      "yes\n",
      "4400\n",
      "yes\n",
      "4500\n",
      "yes\n",
      "4600\n",
      "yes\n",
      "4700\n",
      "yes\n",
      "4800\n",
      "yes\n",
      "4900\n",
      "yes\n",
      "5000\n",
      "yes\n"
     ]
    },
    {
     "name": "stderr",
     "output_type": "stream",
     "text": [
      "\r",
      "  3%|▎         | 3/99 [15:27<8:05:45, 303.60s/it] "
     ]
    },
    {
     "name": "stdout",
     "output_type": "stream",
     "text": [
      "0.014934738856831335\n",
      "yes\n",
      "100\n",
      "yes\n",
      "200\n",
      "yes\n",
      "300\n",
      "yes\n",
      "400\n",
      "yes\n",
      "500\n",
      "yes\n",
      "600\n",
      "yes\n",
      "700\n",
      "yes\n",
      "800\n",
      "yes\n",
      "900\n",
      "yes\n",
      "1000\n",
      "yes\n",
      "1100\n",
      "yes\n",
      "1200\n",
      "yes\n",
      "1300\n",
      "yes\n",
      "1400\n",
      "yes\n",
      "1500\n",
      "yes\n",
      "1600\n",
      "yes\n",
      "1700\n",
      "yes\n",
      "1800\n",
      "yes\n",
      "1900\n",
      "yes\n",
      "2000\n",
      "yes\n"
     ]
    },
    {
     "name": "stderr",
     "output_type": "stream",
     "text": [
      "\r",
      "  4%|▍         | 4/99 [16:37<5:34:23, 211.20s/it]"
     ]
    },
    {
     "name": "stdout",
     "output_type": "stream",
     "text": [
      "2100\n",
      "0.010897313899060608\n",
      "yes\n",
      "100\n",
      "yes\n",
      "200\n",
      "yes\n",
      "300\n",
      "yes\n",
      "400\n",
      "yes\n",
      "500\n",
      "yes\n",
      "600\n",
      "yes\n",
      "700\n",
      "yes\n",
      "800\n",
      "yes\n",
      "900\n",
      "yes\n",
      "1000\n",
      "yes\n",
      "1100\n",
      "yes\n",
      "1200\n",
      "yes\n",
      "1300\n",
      "yes\n",
      "1400\n",
      "yes\n",
      "1500\n",
      "yes\n",
      "1600\n",
      "yes\n",
      "1700\n",
      "yes\n",
      "1800\n",
      "yes\n",
      "1900\n",
      "yes\n",
      "2000\n",
      "yes\n",
      "2100\n",
      "yes\n",
      "2200\n",
      "yes\n",
      "2300\n",
      "yes\n",
      "2400\n",
      "yes\n",
      "2500\n",
      "yes\n",
      "2600\n",
      "yes\n",
      "2700\n",
      "yes\n",
      "2800\n",
      "yes\n",
      "2900\n",
      "3000\n",
      "yes\n",
      "3100\n",
      "yes\n",
      "3200\n",
      "yes\n",
      "3300\n",
      "yes\n",
      "3400\n",
      "yes\n",
      "3500\n",
      "yes\n",
      "3600\n",
      "yes\n",
      "3700\n",
      "yes\n",
      "3800\n",
      "yes\n",
      "3900\n",
      "yes\n",
      "4000\n",
      "yes\n",
      "4100\n",
      "yes\n",
      "4200\n",
      "yes\n",
      "4300\n",
      "yes\n",
      "4400\n",
      "yes\n",
      "4500\n",
      "yes\n",
      "4600\n",
      "yes\n",
      "4700\n",
      "yes\n",
      "4800\n",
      "yes\n",
      "4900\n",
      "yes\n",
      "5000\n",
      "yes\n",
      "5100\n",
      "yes\n",
      "5200\n",
      "yes\n",
      "5300\n",
      "yes\n",
      "5400\n",
      "yes\n",
      "5500\n",
      "yes\n",
      "5600\n",
      "yes\n",
      "5700\n",
      "yes\n",
      "5800\n",
      "yes\n",
      "5900\n",
      "yes\n",
      "6000\n",
      "yes\n",
      "6100\n",
      "yes\n",
      "6200\n",
      "yes\n",
      "6300\n",
      "yes\n",
      "6400\n",
      "yes\n",
      "6500\n",
      "yes\n",
      "6600\n",
      "yes\n",
      "6700\n",
      "yes\n",
      "6800\n",
      "yes\n",
      "6900\n",
      "yes\n",
      "7000\n",
      "yes\n",
      "7100\n",
      "yes\n",
      "7200\n",
      "yes\n",
      "7300\n",
      "yes\n",
      "7400\n",
      "yes\n",
      "7500\n",
      "yes\n",
      "7600\n",
      "yes\n",
      "7700\n",
      "yes\n",
      "7800\n",
      "yes\n",
      "7900\n",
      "yes\n",
      "8000\n",
      "yes\n",
      "8100\n",
      "yes\n",
      "8200\n",
      "yes\n",
      "8300\n",
      "yes\n",
      "8400\n",
      "yes\n",
      "8500\n",
      "yes\n",
      "8600\n",
      "yes\n",
      "8700\n",
      "yes\n",
      "8800\n",
      "yes\n",
      "8900\n",
      "yes\n",
      "9000\n",
      "yes\n",
      "9100\n",
      "yes\n",
      "9200\n",
      "yes\n",
      "9300\n",
      "yes\n",
      "9400\n",
      "yes\n",
      "9500\n",
      "yes\n",
      "9600\n",
      "yes\n",
      "9700\n",
      "yes\n",
      "9800\n",
      "yes\n",
      "9900\n",
      "yes\n",
      "10000\n",
      "yes\n",
      "10100\n",
      "yes\n",
      "10200\n",
      "yes\n",
      "10300\n",
      "yes\n",
      "10400\n",
      "yes\n",
      "10500\n",
      "yes\n",
      "10600\n",
      "yes\n",
      "10700\n",
      "yes\n",
      "10800\n",
      "yes\n",
      "10900\n",
      "yes\n",
      "11000\n",
      "yes\n",
      "11100\n",
      "yes\n",
      "11200\n",
      "yes\n",
      "11300\n",
      "yes\n",
      "11400\n",
      "yes\n",
      "11500\n",
      "yes\n",
      "11600\n",
      "yes\n",
      "11700\n",
      "yes\n",
      "11800\n",
      "yes\n",
      "11900\n",
      "yes\n",
      "12000\n",
      "yes\n",
      "12100\n",
      "yes\n",
      "12200\n",
      "yes\n",
      "12300\n",
      "yes\n",
      "12400\n",
      "yes\n",
      "12500\n",
      "yes\n",
      "12600\n",
      "yes\n",
      "12700\n",
      "yes\n",
      "12800\n",
      "yes\n",
      "12900\n",
      "yes\n",
      "13000\n",
      "13100\n",
      "yes\n",
      "13200\n",
      "yes\n",
      "13300\n",
      "yes\n",
      "13400\n",
      "yes\n"
     ]
    },
    {
     "name": "stderr",
     "output_type": "stream",
     "text": [
      "\r",
      "  5%|▌         | 5/99 [24:02<7:43:13, 295.68s/it]"
     ]
    },
    {
     "name": "stdout",
     "output_type": "stream",
     "text": [
      "0.0014468154321535713\n",
      "yes\n",
      "100\n",
      "yes\n",
      "200\n",
      "yes\n",
      "300\n",
      "yes\n"
     ]
    },
    {
     "name": "stderr",
     "output_type": "stream",
     "text": [
      "\r",
      "  6%|▌         | 6/99 [24:14<5:08:40, 199.15s/it]"
     ]
    },
    {
     "name": "stdout",
     "output_type": "stream",
     "text": [
      "0.0013719881668818438\n",
      "yes\n",
      "100\n",
      "yes\n",
      "200\n",
      "yes\n",
      "300\n"
     ]
    },
    {
     "name": "stderr",
     "output_type": "stream",
     "text": [
      "\r",
      "  7%|▋         | 7/99 [24:26<3:31:42, 138.07s/it]"
     ]
    },
    {
     "name": "stdout",
     "output_type": "stream",
     "text": [
      "0.0012977172123090832\n",
      "yes\n",
      "100\n",
      "yes\n",
      "200\n",
      "yes\n",
      "300\n",
      "yes\n",
      "400\n",
      "yes\n",
      "500\n",
      "yes\n",
      "600\n",
      "yes\n",
      "700\n",
      "yes\n"
     ]
    },
    {
     "name": "stderr",
     "output_type": "stream",
     "text": [
      "\r",
      "  8%|▊         | 8/99 [24:51<2:34:56, 102.16s/it]"
     ]
    },
    {
     "name": "stdout",
     "output_type": "stream",
     "text": [
      "0.001157367634469103\n",
      "yes\n",
      "100\n",
      "yes\n",
      "200\n",
      "yes\n",
      "300\n",
      "yes\n",
      "400\n",
      "yes\n"
     ]
    },
    {
     "name": "stderr",
     "output_type": "stream",
     "text": [
      "\r",
      "  9%|▉         | 9/99 [25:08<1:53:09, 75.44s/it] "
     ]
    },
    {
     "name": "stdout",
     "output_type": "stream",
     "text": [
      "500\n",
      "0.0010730901481834049\n",
      "yes\n",
      "100\n",
      "yes\n",
      "200\n",
      "yes\n",
      "300\n",
      "yes\n",
      "400\n"
     ]
    },
    {
     "name": "stderr",
     "output_type": "stream",
     "text": [
      "\r",
      " 10%|█         | 10/99 [25:23<1:24:00, 56.63s/it]"
     ]
    },
    {
     "name": "stdout",
     "output_type": "stream",
     "text": [
      "0.0010048492670313618\n",
      "yes\n",
      "100\n",
      "yes\n",
      "200\n",
      "yes\n",
      "300\n",
      "yes\n",
      "400\n",
      "yes\n"
     ]
    },
    {
     "name": "stderr",
     "output_type": "stream",
     "text": [
      "\r",
      " 11%|█         | 11/99 [25:38<1:04:43, 44.13s/it]"
     ]
    },
    {
     "name": "stdout",
     "output_type": "stream",
     "text": [
      "0.001\n",
      "yes\n",
      "100\n",
      "yes\n",
      "200\n",
      "yes\n",
      "300\n",
      "yes\n",
      "400\n",
      "yes\n",
      "500\n",
      "yes\n",
      "600\n",
      "yes\n"
     ]
    },
    {
     "name": "stderr",
     "output_type": "stream",
     "text": [
      "\r",
      " 12%|█▏        | 12/99 [26:01<54:34, 37.64s/it]  "
     ]
    },
    {
     "name": "stdout",
     "output_type": "stream",
     "text": [
      "0.001\n",
      "yes\n",
      "100\n",
      "yes\n",
      "200\n"
     ]
    },
    {
     "name": "stderr",
     "output_type": "stream",
     "text": [
      "\r",
      " 13%|█▎        | 13/99 [26:09<40:58, 28.59s/it]"
     ]
    },
    {
     "name": "stdout",
     "output_type": "stream",
     "text": [
      "0.001\n",
      "yes\n",
      "100\n",
      "yes\n",
      "200\n",
      "yes\n",
      "300\n",
      "yes\n"
     ]
    },
    {
     "name": "stderr",
     "output_type": "stream",
     "text": [
      "\r",
      " 14%|█▍        | 14/99 [26:22<33:54, 23.93s/it]"
     ]
    },
    {
     "name": "stdout",
     "output_type": "stream",
     "text": [
      "0.001\n",
      "yes\n",
      "100\n",
      "yes\n",
      "200\n",
      "yes\n",
      "300\n"
     ]
    },
    {
     "name": "stderr",
     "output_type": "stream",
     "text": [
      "\r",
      " 15%|█▌        | 15/99 [26:32<27:44, 19.81s/it]"
     ]
    },
    {
     "name": "stdout",
     "output_type": "stream",
     "text": [
      "0.001\n",
      "yes\n",
      "100\n",
      "yes\n",
      "200\n",
      "yes\n",
      "300\n",
      "yes\n",
      "400\n"
     ]
    },
    {
     "name": "stderr",
     "output_type": "stream",
     "text": [
      "\r",
      " 16%|█▌        | 16/99 [26:47<25:04, 18.13s/it]"
     ]
    },
    {
     "name": "stdout",
     "output_type": "stream",
     "text": [
      "0.001\n",
      "yes\n",
      "100\n",
      "yes\n",
      "200\n"
     ]
    },
    {
     "name": "stderr",
     "output_type": "stream",
     "text": [
      "\r",
      " 17%|█▋        | 17/99 [26:54<20:26, 14.96s/it]"
     ]
    },
    {
     "name": "stdout",
     "output_type": "stream",
     "text": [
      "0.001\n",
      "yes\n",
      "100\n",
      "yes\n"
     ]
    },
    {
     "name": "stderr",
     "output_type": "stream",
     "text": [
      "\r",
      " 18%|█▊        | 18/99 [27:01<16:52, 12.50s/it]"
     ]
    },
    {
     "name": "stdout",
     "output_type": "stream",
     "text": [
      "200\n",
      "0.001\n",
      "yes\n",
      "100\n",
      "yes\n"
     ]
    },
    {
     "name": "stderr",
     "output_type": "stream",
     "text": [
      "\r",
      " 19%|█▉        | 19/99 [27:08<14:19, 10.74s/it]"
     ]
    },
    {
     "name": "stdout",
     "output_type": "stream",
     "text": [
      "200\n",
      "0.001\n",
      "yes\n",
      "100\n",
      "yes\n"
     ]
    },
    {
     "name": "stderr",
     "output_type": "stream",
     "text": [
      "\r",
      " 20%|██        | 20/99 [27:14<12:35,  9.56s/it]"
     ]
    },
    {
     "name": "stdout",
     "output_type": "stream",
     "text": [
      "200\n",
      "0.001\n",
      "yes\n",
      "100\n",
      "yes\n",
      "200\n",
      "yes\n"
     ]
    },
    {
     "name": "stderr",
     "output_type": "stream",
     "text": [
      "\r",
      " 21%|██        | 21/99 [27:25<12:38,  9.72s/it]"
     ]
    },
    {
     "name": "stdout",
     "output_type": "stream",
     "text": [
      "300\n",
      "0.001\n",
      "yes\n",
      "100\n",
      "yes\n",
      "200\n",
      "yes\n"
     ]
    },
    {
     "name": "stderr",
     "output_type": "stream",
     "text": [
      "\r",
      " 22%|██▏       | 22/99 [27:33<12:09,  9.47s/it]"
     ]
    },
    {
     "name": "stdout",
     "output_type": "stream",
     "text": [
      "0.001\n",
      "yes\n",
      "100\n",
      "yes\n",
      "200\n",
      "yes\n",
      "300\n",
      "yes\n"
     ]
    },
    {
     "name": "stderr",
     "output_type": "stream",
     "text": [
      "\r",
      " 23%|██▎       | 23/99 [27:46<13:18, 10.51s/it]"
     ]
    },
    {
     "name": "stdout",
     "output_type": "stream",
     "text": [
      "0.001\n",
      "yes\n",
      "100\n",
      "yes\n",
      "200\n",
      "yes\n"
     ]
    },
    {
     "name": "stderr",
     "output_type": "stream",
     "text": [
      "\r",
      " 24%|██▍       | 24/99 [27:55<12:33, 10.05s/it]"
     ]
    },
    {
     "name": "stdout",
     "output_type": "stream",
     "text": [
      "0.001\n",
      "yes\n",
      "100\n",
      "yes\n",
      "200\n",
      "yes\n",
      "300\n"
     ]
    },
    {
     "name": "stderr",
     "output_type": "stream",
     "text": [
      "\r",
      " 25%|██▌       | 25/99 [28:06<12:31, 10.15s/it]"
     ]
    },
    {
     "name": "stdout",
     "output_type": "stream",
     "text": [
      "0.001\n",
      "yes\n",
      "100\n",
      "yes\n",
      "200\n"
     ]
    },
    {
     "name": "stderr",
     "output_type": "stream",
     "text": [
      "\r",
      " 26%|██▋       | 26/99 [28:13<11:09,  9.16s/it]"
     ]
    },
    {
     "name": "stdout",
     "output_type": "stream",
     "text": [
      "0.001\n",
      "yes\n",
      "100\n",
      "yes\n"
     ]
    },
    {
     "name": "stderr",
     "output_type": "stream",
     "text": [
      "\r",
      " 27%|██▋       | 27/99 [28:19<09:56,  8.29s/it]"
     ]
    },
    {
     "name": "stdout",
     "output_type": "stream",
     "text": [
      "0.001\n",
      "yes\n",
      "100\n"
     ]
    },
    {
     "name": "stderr",
     "output_type": "stream",
     "text": [
      "\r",
      " 28%|██▊       | 28/99 [28:25<08:56,  7.56s/it]"
     ]
    },
    {
     "name": "stdout",
     "output_type": "stream",
     "text": [
      "0.001\n",
      "yes\n",
      "100\n",
      "yes\n",
      "200\n"
     ]
    },
    {
     "name": "stderr",
     "output_type": "stream",
     "text": [
      "\r",
      " 29%|██▉       | 29/99 [28:32<08:40,  7.43s/it]"
     ]
    },
    {
     "name": "stdout",
     "output_type": "stream",
     "text": [
      "yes\n",
      "0.001\n",
      "yes\n",
      "100\n"
     ]
    },
    {
     "name": "stderr",
     "output_type": "stream",
     "text": [
      "\r",
      " 30%|███       | 30/99 [28:38<07:58,  6.94s/it]"
     ]
    },
    {
     "name": "stdout",
     "output_type": "stream",
     "text": [
      "0.001\n",
      "yes\n",
      "100\n"
     ]
    },
    {
     "name": "stderr",
     "output_type": "stream",
     "text": [
      "\r",
      " 31%|███▏      | 31/99 [28:41<06:49,  6.02s/it]"
     ]
    },
    {
     "name": "stdout",
     "output_type": "stream",
     "text": [
      "0.001\n",
      "yes\n",
      "100\n",
      "yes\n"
     ]
    },
    {
     "name": "stderr",
     "output_type": "stream",
     "text": [
      "\r",
      " 32%|███▏      | 32/99 [28:48<06:48,  6.10s/it]"
     ]
    },
    {
     "name": "stdout",
     "output_type": "stream",
     "text": [
      "0.001\n",
      "yes\n",
      "100\n",
      "yes\n"
     ]
    },
    {
     "name": "stderr",
     "output_type": "stream",
     "text": [
      "\r",
      " 33%|███▎      | 33/99 [28:54<06:38,  6.03s/it]"
     ]
    },
    {
     "name": "stdout",
     "output_type": "stream",
     "text": [
      "0.001\n",
      "yes\n",
      "100\n",
      "yes\n"
     ]
    },
    {
     "name": "stderr",
     "output_type": "stream",
     "text": [
      "\r",
      " 34%|███▍      | 34/99 [29:00<06:41,  6.18s/it]"
     ]
    },
    {
     "name": "stdout",
     "output_type": "stream",
     "text": [
      "0.001\n",
      "yes\n",
      "100\n",
      "yes\n"
     ]
    },
    {
     "name": "stderr",
     "output_type": "stream",
     "text": [
      "\r",
      " 35%|███▌      | 35/99 [29:06<06:20,  5.94s/it]"
     ]
    },
    {
     "name": "stdout",
     "output_type": "stream",
     "text": [
      "0.001\n",
      "yes\n",
      "100\n"
     ]
    },
    {
     "name": "stderr",
     "output_type": "stream",
     "text": [
      "\r",
      " 36%|███▋      | 36/99 [29:10<05:48,  5.53s/it]"
     ]
    },
    {
     "name": "stdout",
     "output_type": "stream",
     "text": [
      "0.001\n",
      "yes\n",
      "100\n",
      "yes\n"
     ]
    },
    {
     "name": "stderr",
     "output_type": "stream",
     "text": [
      "\r",
      " 37%|███▋      | 37/99 [29:16<05:44,  5.56s/it]"
     ]
    },
    {
     "name": "stdout",
     "output_type": "stream",
     "text": [
      "0.001\n",
      "yes\n",
      "100\n"
     ]
    },
    {
     "name": "stderr",
     "output_type": "stream",
     "text": [
      "\r",
      " 38%|███▊      | 38/99 [29:21<05:33,  5.47s/it]"
     ]
    },
    {
     "name": "stdout",
     "output_type": "stream",
     "text": [
      "0.001\n",
      "yes\n",
      "100\n",
      "yes\n"
     ]
    },
    {
     "name": "stderr",
     "output_type": "stream",
     "text": [
      "\r",
      " 39%|███▉      | 39/99 [29:26<05:17,  5.29s/it]"
     ]
    },
    {
     "name": "stdout",
     "output_type": "stream",
     "text": [
      "0.001\n",
      "yes\n",
      "100\n"
     ]
    },
    {
     "name": "stderr",
     "output_type": "stream",
     "text": [
      "\r",
      " 40%|████      | 40/99 [29:31<05:06,  5.19s/it]"
     ]
    },
    {
     "name": "stdout",
     "output_type": "stream",
     "text": [
      "0.001\n",
      "yes\n",
      "100\n",
      "yes\n"
     ]
    },
    {
     "name": "stderr",
     "output_type": "stream",
     "text": [
      "\r",
      " 41%|████▏     | 41/99 [29:37<05:10,  5.36s/it]"
     ]
    },
    {
     "name": "stdout",
     "output_type": "stream",
     "text": [
      "0.001\n",
      "yes\n",
      "100\n"
     ]
    },
    {
     "name": "stderr",
     "output_type": "stream",
     "text": [
      "\r",
      " 42%|████▏     | 42/99 [29:42<05:11,  5.46s/it]"
     ]
    },
    {
     "name": "stdout",
     "output_type": "stream",
     "text": [
      "0.001\n",
      "yes\n"
     ]
    },
    {
     "name": "stderr",
     "output_type": "stream",
     "text": [
      "\r",
      " 43%|████▎     | 43/99 [29:46<04:30,  4.83s/it]"
     ]
    },
    {
     "name": "stdout",
     "output_type": "stream",
     "text": [
      "100\n",
      "0.001\n",
      "yes\n",
      "100\n",
      "yes\n"
     ]
    },
    {
     "name": "stderr",
     "output_type": "stream",
     "text": [
      "\r",
      " 44%|████▍     | 44/99 [29:52<04:45,  5.18s/it]"
     ]
    },
    {
     "name": "stdout",
     "output_type": "stream",
     "text": [
      "0.001\n",
      "yes\n",
      "100\n",
      "yes\n"
     ]
    },
    {
     "name": "stderr",
     "output_type": "stream",
     "text": [
      "\r",
      " 45%|████▌     | 45/99 [29:57<04:40,  5.20s/it]"
     ]
    },
    {
     "name": "stdout",
     "output_type": "stream",
     "text": [
      "0.001\n",
      "yes\n",
      "100\n"
     ]
    },
    {
     "name": "stderr",
     "output_type": "stream",
     "text": [
      "\r",
      " 46%|████▋     | 46/99 [30:00<04:10,  4.72s/it]"
     ]
    },
    {
     "name": "stdout",
     "output_type": "stream",
     "text": [
      "0.001\n",
      "yes\n"
     ]
    },
    {
     "name": "stderr",
     "output_type": "stream",
     "text": [
      "\r",
      " 47%|████▋     | 47/99 [30:04<03:39,  4.22s/it]"
     ]
    },
    {
     "name": "stdout",
     "output_type": "stream",
     "text": [
      "0.001\n",
      "yes\n"
     ]
    },
    {
     "name": "stderr",
     "output_type": "stream",
     "text": [
      "\r",
      " 48%|████▊     | 48/99 [30:06<03:14,  3.81s/it]"
     ]
    },
    {
     "name": "stdout",
     "output_type": "stream",
     "text": [
      "0.001\n",
      "yes\n",
      "100\n"
     ]
    },
    {
     "name": "stderr",
     "output_type": "stream",
     "text": [
      "\r",
      " 49%|████▉     | 49/99 [30:12<03:34,  4.30s/it]"
     ]
    },
    {
     "name": "stdout",
     "output_type": "stream",
     "text": [
      "0.001\n",
      "yes\n",
      "100\n",
      "yes\n"
     ]
    },
    {
     "name": "stderr",
     "output_type": "stream",
     "text": [
      "\r",
      " 51%|█████     | 50/99 [30:17<03:43,  4.56s/it]"
     ]
    },
    {
     "name": "stdout",
     "output_type": "stream",
     "text": [
      "0.001\n",
      "yes\n",
      "100\n"
     ]
    },
    {
     "name": "stderr",
     "output_type": "stream",
     "text": [
      "\r",
      " 52%|█████▏    | 51/99 [30:22<03:51,  4.83s/it]"
     ]
    },
    {
     "name": "stdout",
     "output_type": "stream",
     "text": [
      "0.001\n",
      "yes\n",
      "100\n",
      "yes\n"
     ]
    },
    {
     "name": "stderr",
     "output_type": "stream",
     "text": [
      "\r",
      " 53%|█████▎    | 52/99 [30:28<03:54,  5.00s/it]"
     ]
    },
    {
     "name": "stdout",
     "output_type": "stream",
     "text": [
      "0.001\n",
      "yes\n"
     ]
    },
    {
     "name": "stderr",
     "output_type": "stream",
     "text": [
      "\r",
      " 54%|█████▎    | 53/99 [30:31<03:22,  4.41s/it]"
     ]
    },
    {
     "name": "stdout",
     "output_type": "stream",
     "text": [
      "0.001\n",
      "yes\n",
      "100\n",
      "yes\n"
     ]
    },
    {
     "name": "stderr",
     "output_type": "stream",
     "text": [
      "\r",
      " 55%|█████▍    | 54/99 [30:37<03:36,  4.80s/it]"
     ]
    },
    {
     "name": "stdout",
     "output_type": "stream",
     "text": [
      "0.001\n",
      "yes\n",
      "100\n",
      "yes\n",
      "200\n",
      "yes\n",
      "300\n",
      "yes\n",
      "400\n",
      "yes\n",
      "500\n",
      "yes\n",
      "600\n",
      "yes\n",
      "700\n",
      "yes\n",
      "800\n",
      "yes\n",
      "900\n",
      "yes\n",
      "1000\n"
     ]
    },
    {
     "name": "stderr",
     "output_type": "stream",
     "text": [
      "\r",
      " 56%|█████▌    | 55/99 [31:10<09:49, 13.39s/it]"
     ]
    },
    {
     "name": "stdout",
     "output_type": "stream",
     "text": [
      "0.001\n",
      "yes\n",
      "100\n"
     ]
    },
    {
     "name": "stderr",
     "output_type": "stream",
     "text": [
      "\r",
      " 57%|█████▋    | 56/99 [31:15<07:49, 10.91s/it]"
     ]
    },
    {
     "name": "stdout",
     "output_type": "stream",
     "text": [
      "0.001\n",
      "yes\n"
     ]
    },
    {
     "name": "stderr",
     "output_type": "stream",
     "text": [
      "\r",
      " 58%|█████▊    | 57/99 [31:18<06:02,  8.64s/it]"
     ]
    },
    {
     "name": "stdout",
     "output_type": "stream",
     "text": [
      "0.001\n",
      "yes\n",
      "100\n",
      "yes\n"
     ]
    },
    {
     "name": "stderr",
     "output_type": "stream",
     "text": [
      "\r",
      " 59%|█████▊    | 58/99 [31:24<05:14,  7.66s/it]"
     ]
    },
    {
     "name": "stdout",
     "output_type": "stream",
     "text": [
      "0.001\n",
      "yes\n"
     ]
    },
    {
     "name": "stderr",
     "output_type": "stream",
     "text": [
      "\r",
      " 60%|█████▉    | 59/99 [31:27<04:11,  6.29s/it]"
     ]
    },
    {
     "name": "stdout",
     "output_type": "stream",
     "text": [
      "0.001\n",
      "yes\n",
      "100\n"
     ]
    },
    {
     "name": "stderr",
     "output_type": "stream",
     "text": [
      "\r",
      " 61%|██████    | 60/99 [31:32<03:53,  6.00s/it]"
     ]
    },
    {
     "name": "stdout",
     "output_type": "stream",
     "text": [
      "0.001\n",
      "yes\n"
     ]
    },
    {
     "name": "stderr",
     "output_type": "stream",
     "text": [
      "\r",
      " 62%|██████▏   | 61/99 [31:35<03:12,  5.06s/it]"
     ]
    },
    {
     "name": "stdout",
     "output_type": "stream",
     "text": [
      "0.001\n",
      "yes\n"
     ]
    },
    {
     "name": "stderr",
     "output_type": "stream",
     "text": [
      "\r",
      " 63%|██████▎   | 62/99 [31:38<02:44,  4.46s/it]"
     ]
    },
    {
     "name": "stdout",
     "output_type": "stream",
     "text": [
      "0.001\n",
      "yes\n",
      "100\n"
     ]
    },
    {
     "name": "stderr",
     "output_type": "stream",
     "text": [
      "\r",
      " 64%|██████▎   | 63/99 [31:43<02:49,  4.71s/it]"
     ]
    },
    {
     "name": "stdout",
     "output_type": "stream",
     "text": [
      "yes\n",
      "0.001\n"
     ]
    },
    {
     "name": "stderr",
     "output_type": "stream",
     "text": [
      " 64%|██████▎   | 63/99 [31:44<18:08, 30.22s/it]\n"
     ]
    },
    {
     "ename": "KeyboardInterrupt",
     "evalue": "",
     "output_type": "error",
     "traceback": [
      "\u001b[0;31m---------------------------------------------------------------------------\u001b[0m",
      "\u001b[0;31mKeyboardInterrupt\u001b[0m                         Traceback (most recent call last)",
      "\u001b[0;32m<ipython-input-6-c6c6b3c4a4d0>\u001b[0m in \u001b[0;36m<module>\u001b[0;34m\u001b[0m\n\u001b[1;32m     37\u001b[0m \u001b[0;31m#         print(action)\u001b[0m\u001b[0;34m\u001b[0m\u001b[0;34m\u001b[0m\u001b[0;34m\u001b[0m\u001b[0m\n\u001b[1;32m     38\u001b[0m \u001b[0;34m\u001b[0m\u001b[0m\n\u001b[0;32m---> 39\u001b[0;31m         \u001b[0mnew_state\u001b[0m\u001b[0;34m,\u001b[0m \u001b[0mreward\u001b[0m\u001b[0;34m,\u001b[0m \u001b[0mdone\u001b[0m\u001b[0;34m,\u001b[0m \u001b[0m_\u001b[0m\u001b[0;34m,\u001b[0m \u001b[0m_\u001b[0m \u001b[0;34m=\u001b[0m \u001b[0menv\u001b[0m\u001b[0;34m.\u001b[0m\u001b[0mstep\u001b[0m\u001b[0;34m(\u001b[0m\u001b[0maction\u001b[0m\u001b[0;34m)\u001b[0m\u001b[0;34m\u001b[0m\u001b[0;34m\u001b[0m\u001b[0m\n\u001b[0m\u001b[1;32m     40\u001b[0m \u001b[0;34m\u001b[0m\u001b[0m\n\u001b[1;32m     41\u001b[0m         \u001b[0magent\u001b[0m\u001b[0;34m.\u001b[0m\u001b[0mupdate_replay_memory\u001b[0m\u001b[0;34m(\u001b[0m\u001b[0;34m(\u001b[0m\u001b[0mcurrent_state\u001b[0m\u001b[0;34m,\u001b[0m \u001b[0maction\u001b[0m\u001b[0;34m,\u001b[0m \u001b[0mreward\u001b[0m\u001b[0;34m,\u001b[0m \u001b[0mnew_state\u001b[0m\u001b[0;34m,\u001b[0m \u001b[0mdone\u001b[0m\u001b[0;34m)\u001b[0m\u001b[0;34m)\u001b[0m\u001b[0;34m\u001b[0m\u001b[0;34m\u001b[0m\u001b[0m\n",
      "\u001b[0;32m~/.local/lib/python3.8/site-packages/gym/wrappers/time_limit.py\u001b[0m in \u001b[0;36mstep\u001b[0;34m(self, action)\u001b[0m\n\u001b[1;32m     48\u001b[0m \u001b[0;34m\u001b[0m\u001b[0m\n\u001b[1;32m     49\u001b[0m         \"\"\"\n\u001b[0;32m---> 50\u001b[0;31m         \u001b[0mobservation\u001b[0m\u001b[0;34m,\u001b[0m \u001b[0mreward\u001b[0m\u001b[0;34m,\u001b[0m \u001b[0mterminated\u001b[0m\u001b[0;34m,\u001b[0m \u001b[0mtruncated\u001b[0m\u001b[0;34m,\u001b[0m \u001b[0minfo\u001b[0m \u001b[0;34m=\u001b[0m \u001b[0mself\u001b[0m\u001b[0;34m.\u001b[0m\u001b[0menv\u001b[0m\u001b[0;34m.\u001b[0m\u001b[0mstep\u001b[0m\u001b[0;34m(\u001b[0m\u001b[0maction\u001b[0m\u001b[0;34m)\u001b[0m\u001b[0;34m\u001b[0m\u001b[0;34m\u001b[0m\u001b[0m\n\u001b[0m\u001b[1;32m     51\u001b[0m         \u001b[0mself\u001b[0m\u001b[0;34m.\u001b[0m\u001b[0m_elapsed_steps\u001b[0m \u001b[0;34m+=\u001b[0m \u001b[0;36m1\u001b[0m\u001b[0;34m\u001b[0m\u001b[0;34m\u001b[0m\u001b[0m\n\u001b[1;32m     52\u001b[0m \u001b[0;34m\u001b[0m\u001b[0m\n",
      "\u001b[0;32m~/.local/lib/python3.8/site-packages/gym/wrappers/order_enforcing.py\u001b[0m in \u001b[0;36mstep\u001b[0;34m(self, action)\u001b[0m\n\u001b[1;32m     35\u001b[0m         \u001b[0;32mif\u001b[0m \u001b[0;32mnot\u001b[0m \u001b[0mself\u001b[0m\u001b[0;34m.\u001b[0m\u001b[0m_has_reset\u001b[0m\u001b[0;34m:\u001b[0m\u001b[0;34m\u001b[0m\u001b[0;34m\u001b[0m\u001b[0m\n\u001b[1;32m     36\u001b[0m             \u001b[0;32mraise\u001b[0m \u001b[0mResetNeeded\u001b[0m\u001b[0;34m(\u001b[0m\u001b[0;34m\"Cannot call env.step() before calling env.reset()\"\u001b[0m\u001b[0;34m)\u001b[0m\u001b[0;34m\u001b[0m\u001b[0;34m\u001b[0m\u001b[0m\n\u001b[0;32m---> 37\u001b[0;31m         \u001b[0;32mreturn\u001b[0m \u001b[0mself\u001b[0m\u001b[0;34m.\u001b[0m\u001b[0menv\u001b[0m\u001b[0;34m.\u001b[0m\u001b[0mstep\u001b[0m\u001b[0;34m(\u001b[0m\u001b[0maction\u001b[0m\u001b[0;34m)\u001b[0m\u001b[0;34m\u001b[0m\u001b[0;34m\u001b[0m\u001b[0m\n\u001b[0m\u001b[1;32m     38\u001b[0m \u001b[0;34m\u001b[0m\u001b[0m\n\u001b[1;32m     39\u001b[0m     \u001b[0;32mdef\u001b[0m \u001b[0mreset\u001b[0m\u001b[0;34m(\u001b[0m\u001b[0mself\u001b[0m\u001b[0;34m,\u001b[0m \u001b[0;34m**\u001b[0m\u001b[0mkwargs\u001b[0m\u001b[0;34m)\u001b[0m\u001b[0;34m:\u001b[0m\u001b[0;34m\u001b[0m\u001b[0;34m\u001b[0m\u001b[0m\n",
      "\u001b[0;32m~/.local/lib/python3.8/site-packages/gym/wrappers/env_checker.py\u001b[0m in \u001b[0;36mstep\u001b[0;34m(self, action)\u001b[0m\n\u001b[1;32m     37\u001b[0m             \u001b[0;32mreturn\u001b[0m \u001b[0menv_step_passive_checker\u001b[0m\u001b[0;34m(\u001b[0m\u001b[0mself\u001b[0m\u001b[0;34m.\u001b[0m\u001b[0menv\u001b[0m\u001b[0;34m,\u001b[0m \u001b[0maction\u001b[0m\u001b[0;34m)\u001b[0m\u001b[0;34m\u001b[0m\u001b[0;34m\u001b[0m\u001b[0m\n\u001b[1;32m     38\u001b[0m         \u001b[0;32melse\u001b[0m\u001b[0;34m:\u001b[0m\u001b[0;34m\u001b[0m\u001b[0;34m\u001b[0m\u001b[0m\n\u001b[0;32m---> 39\u001b[0;31m             \u001b[0;32mreturn\u001b[0m \u001b[0mself\u001b[0m\u001b[0;34m.\u001b[0m\u001b[0menv\u001b[0m\u001b[0;34m.\u001b[0m\u001b[0mstep\u001b[0m\u001b[0;34m(\u001b[0m\u001b[0maction\u001b[0m\u001b[0;34m)\u001b[0m\u001b[0;34m\u001b[0m\u001b[0;34m\u001b[0m\u001b[0m\n\u001b[0m\u001b[1;32m     40\u001b[0m \u001b[0;34m\u001b[0m\u001b[0m\n\u001b[1;32m     41\u001b[0m     \u001b[0;32mdef\u001b[0m \u001b[0mreset\u001b[0m\u001b[0;34m(\u001b[0m\u001b[0mself\u001b[0m\u001b[0;34m,\u001b[0m \u001b[0;34m**\u001b[0m\u001b[0mkwargs\u001b[0m\u001b[0;34m)\u001b[0m\u001b[0;34m:\u001b[0m\u001b[0;34m\u001b[0m\u001b[0;34m\u001b[0m\u001b[0m\n",
      "\u001b[0;32m~/.local/lib/python3.8/site-packages/gym/envs/classic_control/mountain_car.py\u001b[0m in \u001b[0;36mstep\u001b[0;34m(self, action)\u001b[0m\n\u001b[1;32m    145\u001b[0m         \u001b[0mself\u001b[0m\u001b[0;34m.\u001b[0m\u001b[0mstate\u001b[0m \u001b[0;34m=\u001b[0m \u001b[0;34m(\u001b[0m\u001b[0mposition\u001b[0m\u001b[0;34m,\u001b[0m \u001b[0mvelocity\u001b[0m\u001b[0;34m)\u001b[0m\u001b[0;34m\u001b[0m\u001b[0;34m\u001b[0m\u001b[0m\n\u001b[1;32m    146\u001b[0m         \u001b[0;32mif\u001b[0m \u001b[0mself\u001b[0m\u001b[0;34m.\u001b[0m\u001b[0mrender_mode\u001b[0m \u001b[0;34m==\u001b[0m \u001b[0;34m\"human\"\u001b[0m\u001b[0;34m:\u001b[0m\u001b[0;34m\u001b[0m\u001b[0;34m\u001b[0m\u001b[0m\n\u001b[0;32m--> 147\u001b[0;31m             \u001b[0mself\u001b[0m\u001b[0;34m.\u001b[0m\u001b[0mrender\u001b[0m\u001b[0;34m(\u001b[0m\u001b[0;34m)\u001b[0m\u001b[0;34m\u001b[0m\u001b[0;34m\u001b[0m\u001b[0m\n\u001b[0m\u001b[1;32m    148\u001b[0m         \u001b[0;32mreturn\u001b[0m \u001b[0mnp\u001b[0m\u001b[0;34m.\u001b[0m\u001b[0marray\u001b[0m\u001b[0;34m(\u001b[0m\u001b[0mself\u001b[0m\u001b[0;34m.\u001b[0m\u001b[0mstate\u001b[0m\u001b[0;34m,\u001b[0m \u001b[0mdtype\u001b[0m\u001b[0;34m=\u001b[0m\u001b[0mnp\u001b[0m\u001b[0;34m.\u001b[0m\u001b[0mfloat32\u001b[0m\u001b[0;34m)\u001b[0m\u001b[0;34m,\u001b[0m \u001b[0mreward\u001b[0m\u001b[0;34m,\u001b[0m \u001b[0mterminated\u001b[0m\u001b[0;34m,\u001b[0m \u001b[0;32mFalse\u001b[0m\u001b[0;34m,\u001b[0m \u001b[0;34m{\u001b[0m\u001b[0;34m}\u001b[0m\u001b[0;34m\u001b[0m\u001b[0;34m\u001b[0m\u001b[0m\n\u001b[1;32m    149\u001b[0m \u001b[0;34m\u001b[0m\u001b[0m\n",
      "\u001b[0;32m~/.local/lib/python3.8/site-packages/gym/envs/classic_control/mountain_car.py\u001b[0m in \u001b[0;36mrender\u001b[0;34m(self)\u001b[0m\n\u001b[1;32m    263\u001b[0m             \u001b[0mpygame\u001b[0m\u001b[0;34m.\u001b[0m\u001b[0mevent\u001b[0m\u001b[0;34m.\u001b[0m\u001b[0mpump\u001b[0m\u001b[0;34m(\u001b[0m\u001b[0;34m)\u001b[0m\u001b[0;34m\u001b[0m\u001b[0;34m\u001b[0m\u001b[0m\n\u001b[1;32m    264\u001b[0m             \u001b[0mself\u001b[0m\u001b[0;34m.\u001b[0m\u001b[0mclock\u001b[0m\u001b[0;34m.\u001b[0m\u001b[0mtick\u001b[0m\u001b[0;34m(\u001b[0m\u001b[0mself\u001b[0m\u001b[0;34m.\u001b[0m\u001b[0mmetadata\u001b[0m\u001b[0;34m[\u001b[0m\u001b[0;34m\"render_fps\"\u001b[0m\u001b[0;34m]\u001b[0m\u001b[0;34m)\u001b[0m\u001b[0;34m\u001b[0m\u001b[0;34m\u001b[0m\u001b[0m\n\u001b[0;32m--> 265\u001b[0;31m             \u001b[0mpygame\u001b[0m\u001b[0;34m.\u001b[0m\u001b[0mdisplay\u001b[0m\u001b[0;34m.\u001b[0m\u001b[0mflip\u001b[0m\u001b[0;34m(\u001b[0m\u001b[0;34m)\u001b[0m\u001b[0;34m\u001b[0m\u001b[0;34m\u001b[0m\u001b[0m\n\u001b[0m\u001b[1;32m    266\u001b[0m \u001b[0;34m\u001b[0m\u001b[0m\n\u001b[1;32m    267\u001b[0m         \u001b[0;32melif\u001b[0m \u001b[0mself\u001b[0m\u001b[0;34m.\u001b[0m\u001b[0mrender_mode\u001b[0m \u001b[0;34m==\u001b[0m \u001b[0;34m\"rgb_array\"\u001b[0m\u001b[0;34m:\u001b[0m\u001b[0;34m\u001b[0m\u001b[0;34m\u001b[0m\u001b[0m\n",
      "\u001b[0;31mKeyboardInterrupt\u001b[0m: "
     ]
    }
   ],
   "source": [
    "for episode in trange(1, 100):\n",
    "    \n",
    "    episode_reward = 0\n",
    "    \n",
    "    \n",
    "    current_state = env.reset()[0]\n",
    "    \n",
    "    done = False\n",
    "    \n",
    "    count = 0\n",
    "    while not done:\n",
    "\n",
    "        if count == 0:\n",
    "            print(epsilon)        \n",
    "        \n",
    "        count += 1\n",
    "        \n",
    "        if count % 100 == 0:\n",
    "            print(count)\n",
    "            \n",
    "\n",
    "    \n",
    "        if np.random.random() > epsilon:\n",
    "            \n",
    "#             print(\"not random\")\n",
    "                \n",
    "            action = torch.argmax(agent.get_qs(torch.from_numpy(current_state))).item()\n",
    "            \n",
    "        else:\n",
    "            \n",
    "#             print(\"random\")\n",
    "        \n",
    "            action = np.random.randint(0, env.action_space.n)\n",
    "        \n",
    "#         print(agent.get_qs(torch.from_numpy(current_state)))\n",
    "        \n",
    "#         print(action)\n",
    "            \n",
    "        new_state, reward, done, _, _ = env.step(action)\n",
    "        \n",
    "        agent.update_replay_memory((current_state, action, reward, new_state, done))\n",
    "        agent.train(done)\n",
    "        \n",
    "        current_state = new_state\n",
    "        \n",
    "#         if count == 3000:\n",
    "#             done = True\n",
    "        \n",
    "        \n",
    "        # Decay epsilon\n",
    "        if epsilon > MIN_EPSILON:\n",
    "            epsilon *= EPSILON_DECAY\n",
    "            epsilon = max(MIN_EPSILON, epsilon)    \n",
    "            \n",
    "#         print(epsilon)"
   ]
  },
  {
   "cell_type": "code",
   "execution_count": null,
   "metadata": {},
   "outputs": [],
   "source": []
  },
  {
   "cell_type": "code",
   "execution_count": null,
   "metadata": {},
   "outputs": [],
   "source": []
  },
  {
   "cell_type": "code",
   "execution_count": null,
   "metadata": {},
   "outputs": [],
   "source": []
  },
  {
   "cell_type": "code",
   "execution_count": null,
   "metadata": {},
   "outputs": [],
   "source": []
  },
  {
   "cell_type": "code",
   "execution_count": null,
   "metadata": {},
   "outputs": [],
   "source": []
  },
  {
   "cell_type": "code",
   "execution_count": null,
   "metadata": {},
   "outputs": [],
   "source": []
  }
 ],
 "metadata": {
  "kernelspec": {
   "display_name": "Python 3",
   "language": "python",
   "name": "python3"
  },
  "language_info": {
   "codemirror_mode": {
    "name": "ipython",
    "version": 3
   },
   "file_extension": ".py",
   "mimetype": "text/x-python",
   "name": "python",
   "nbconvert_exporter": "python",
   "pygments_lexer": "ipython3",
   "version": "3.8.10"
  }
 },
 "nbformat": 4,
 "nbformat_minor": 4
}
